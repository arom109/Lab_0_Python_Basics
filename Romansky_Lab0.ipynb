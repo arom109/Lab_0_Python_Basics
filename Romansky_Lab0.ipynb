{
 "cells": [
  {
   "cell_type": "code",
   "execution_count": 9,
   "metadata": {},
   "outputs": [
    {
     "name": "stdout",
     "output_type": "stream",
     "text": [
      "['roads.txt', 'cities.txt', 'counties.txt', 'states.txt']\n"
     ]
    }
   ],
   "source": [
    "# Part 1\n",
    "# a)\n",
    "\n",
    "l1 = ['roads', 'cities', 'counties', 'states']\n",
    "\n",
    "# b)\n",
    "\n",
    "l2 = []\n",
    "\n",
    "for i in l1:\n",
    "    l2.append(i+'.txt')\n",
    "print(l2)"
   ]
  },
  {
   "cell_type": "code",
   "execution_count": 10,
   "metadata": {},
   "outputs": [],
   "source": [
    "import math"
   ]
  },
  {
   "cell_type": "code",
   "execution_count": 11,
   "metadata": {},
   "outputs": [
    {
     "name": "stdout",
     "output_type": "stream",
     "text": [
      "1.0\n",
      "3.141592653589793\n",
      "9.869604401089358\n",
      "31.006276680299816\n",
      "97.40909103400242\n",
      "306.0196847852814\n",
      "961.3891935753043\n",
      "3020.2932277767914\n",
      "9488.53101607057\n"
     ]
    }
   ],
   "source": [
    "# Part 2\n",
    "\n",
    "x = math.pi\n",
    "y = 0\n",
    "\n",
    "while x**y < 10000:\n",
    "    print(x**y)\n",
    "    y += 1"
   ]
  },
  {
   "cell_type": "code",
   "execution_count": null,
   "metadata": {},
   "outputs": [],
   "source": []
  }
 ],
 "metadata": {
  "kernelspec": {
   "display_name": "Python 3",
   "language": "python",
   "name": "python3"
  },
  "language_info": {
   "codemirror_mode": {
    "name": "ipython",
    "version": 3
   },
   "file_extension": ".py",
   "mimetype": "text/x-python",
   "name": "python",
   "nbconvert_exporter": "python",
   "pygments_lexer": "ipython3",
   "version": "3.7.8"
  }
 },
 "nbformat": 4,
 "nbformat_minor": 4
}
